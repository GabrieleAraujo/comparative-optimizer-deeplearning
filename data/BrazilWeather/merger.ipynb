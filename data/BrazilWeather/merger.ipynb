{
 "cells": [
  {
   "cell_type": "code",
   "execution_count": 3,
   "id": "2d91e6df-dd9c-4d1e-adae-ec963d1c126d",
   "metadata": {
    "tags": []
   },
   "outputs": [],
   "source": [
    "import pandas as pd"
   ]
  },
  {
   "cell_type": "markdown",
   "id": "e3dfd9ee-8d82-4c7e-9f8b-2adc4be8ec41",
   "metadata": {},
   "source": [
    "# Merger all years"
   ]
  },
  {
   "cell_type": "code",
   "execution_count": null,
   "id": "4680d61f-ac81-4f39-87dd-f7cb36f8b5b2",
   "metadata": {},
   "outputs": [],
   "source": [
    "# Lista de arquivos CSV a serem combinados\n",
    "anos = list(range(2014, 2025))  # De 2014 a 2024\n",
    "arquivos = [f'weather_sum_{ano}.csv' for ano in anos]"
   ]
  },
  {
   "cell_type": "code",
   "execution_count": null,
   "id": "9f5cd28b-b569-445d-b2ef-828e7a4153fb",
   "metadata": {},
   "outputs": [],
   "source": [
    "dataframes = []\n",
    "\n",
    "# Iterar sobre cada arquivo e carregar em um DataFrame\n",
    "for arquivo in arquivos:\n",
    "    df = pd.read_csv(arquivo)\n",
    "    dataframes.append(df)\n",
    "\n",
    "# Combinar todos os DataFrames em um único DataFrame\n",
    "df_combinado = pd.concat(dataframes, ignore_index=True)\n",
    "\n",
    "# Exibir o DataFrame combinado\n",
    "print(df_combinado)\n"
   ]
  },
  {
   "cell_type": "code",
   "execution_count": null,
   "id": "81163436-6f12-4a5b-93ec-7a62170948ee",
   "metadata": {},
   "outputs": [],
   "source": [
    "# Opcional: salvar o DataFrame combinado em um novo arquivo CSV\n",
    "df_combinado.to_csv('weather_sum_combinado.csv', index=False)"
   ]
  },
  {
   "cell_type": "code",
   "execution_count": null,
   "id": "1612df63-b694-4fd6-b7bd-b2b3ed2bf290",
   "metadata": {},
   "outputs": [],
   "source": [
    "df_combinado.head()"
   ]
  },
  {
   "cell_type": "markdown",
   "id": "fbecf7c5-d209-43d2-bde0-c5f1f6bf800b",
   "metadata": {},
   "source": [
    "# Merger Stations"
   ]
  },
  {
   "cell_type": "code",
   "execution_count": 4,
   "id": "42a11e9e-44fe-422c-aa90-4a567c2932ee",
   "metadata": {
    "tags": []
   },
   "outputs": [],
   "source": [
    "# Carregar os dados das estações\n",
    "stations_df = pd.read_csv('stations.csv')"
   ]
  },
  {
   "cell_type": "code",
   "execution_count": 5,
   "id": "970f4227-0245-490e-87c0-9aa5abc38c10",
   "metadata": {
    "tags": []
   },
   "outputs": [
    {
     "data": {
      "text/html": [
       "<div>\n",
       "<style scoped>\n",
       "    .dataframe tbody tr th:only-of-type {\n",
       "        vertical-align: middle;\n",
       "    }\n",
       "\n",
       "    .dataframe tbody tr th {\n",
       "        vertical-align: top;\n",
       "    }\n",
       "\n",
       "    .dataframe thead th {\n",
       "        text-align: right;\n",
       "    }\n",
       "</style>\n",
       "<table border=\"1\" class=\"dataframe\">\n",
       "  <thead>\n",
       "    <tr style=\"text-align: right;\">\n",
       "      <th></th>\n",
       "      <th>region</th>\n",
       "      <th>state</th>\n",
       "      <th>city_station</th>\n",
       "      <th>id_station</th>\n",
       "      <th>lat</th>\n",
       "      <th>lon</th>\n",
       "      <th>lvl</th>\n",
       "      <th>record_first</th>\n",
       "      <th>record_last</th>\n",
       "    </tr>\n",
       "  </thead>\n",
       "  <tbody>\n",
       "    <tr>\n",
       "      <th>0</th>\n",
       "      <td>CO</td>\n",
       "      <td>DF</td>\n",
       "      <td>BRASILIA</td>\n",
       "      <td>A001</td>\n",
       "      <td>-15,78944444</td>\n",
       "      <td>-47,92583332</td>\n",
       "      <td>1159,54</td>\n",
       "      <td>2000-05-07</td>\n",
       "      <td>2024-09-30</td>\n",
       "    </tr>\n",
       "    <tr>\n",
       "      <th>1</th>\n",
       "      <td>NE</td>\n",
       "      <td>BA</td>\n",
       "      <td>SALVADOR</td>\n",
       "      <td>A401</td>\n",
       "      <td>-13,01666666</td>\n",
       "      <td>-38,51666666</td>\n",
       "      <td>51,41</td>\n",
       "      <td>2000-05-13</td>\n",
       "      <td>2024-09-30</td>\n",
       "    </tr>\n",
       "    <tr>\n",
       "      <th>2</th>\n",
       "      <td>N</td>\n",
       "      <td>AM</td>\n",
       "      <td>MANAUS</td>\n",
       "      <td>A101</td>\n",
       "      <td>-3,10333333</td>\n",
       "      <td>-60,01638888</td>\n",
       "      <td>61,25</td>\n",
       "      <td>2000-05-09</td>\n",
       "      <td>2024-09-30</td>\n",
       "    </tr>\n",
       "    <tr>\n",
       "      <th>3</th>\n",
       "      <td>SE</td>\n",
       "      <td>RJ</td>\n",
       "      <td>ECOLOGIA AGRICOLA</td>\n",
       "      <td>A601</td>\n",
       "      <td>-22,8</td>\n",
       "      <td>-43,68333333</td>\n",
       "      <td>33</td>\n",
       "      <td>2000-05-07</td>\n",
       "      <td>2024-09-30</td>\n",
       "    </tr>\n",
       "    <tr>\n",
       "      <th>4</th>\n",
       "      <td>S</td>\n",
       "      <td>RS</td>\n",
       "      <td>PORTO ALEGRE</td>\n",
       "      <td>A801</td>\n",
       "      <td>-30,05</td>\n",
       "      <td>-51,16666666</td>\n",
       "      <td>46,97</td>\n",
       "      <td>2000-09-22</td>\n",
       "      <td>2024-09-30</td>\n",
       "    </tr>\n",
       "  </tbody>\n",
       "</table>\n",
       "</div>"
      ],
      "text/plain": [
       "  region state       city_station id_station           lat           lon  \\\n",
       "0     CO    DF           BRASILIA       A001  -15,78944444  -47,92583332   \n",
       "1     NE    BA           SALVADOR       A401  -13,01666666  -38,51666666   \n",
       "2      N    AM             MANAUS       A101   -3,10333333  -60,01638888   \n",
       "3     SE    RJ  ECOLOGIA AGRICOLA       A601         -22,8  -43,68333333   \n",
       "4      S    RS       PORTO ALEGRE       A801        -30,05  -51,16666666   \n",
       "\n",
       "       lvl record_first record_last  \n",
       "0  1159,54   2000-05-07  2024-09-30  \n",
       "1    51,41   2000-05-13  2024-09-30  \n",
       "2    61,25   2000-05-09  2024-09-30  \n",
       "3       33   2000-05-07  2024-09-30  \n",
       "4    46,97   2000-09-22  2024-09-30  "
      ]
     },
     "execution_count": 5,
     "metadata": {},
     "output_type": "execute_result"
    }
   ],
   "source": [
    "stations_df.head()"
   ]
  },
  {
   "cell_type": "code",
   "execution_count": 6,
   "id": "4192e75e-7bb0-43ac-ad33-83328c18b5ac",
   "metadata": {
    "tags": []
   },
   "outputs": [
    {
     "data": {
      "text/plain": [
       "615"
      ]
     },
     "execution_count": 6,
     "metadata": {},
     "output_type": "execute_result"
    }
   ],
   "source": [
    "stations_df['id_station'].nunique()"
   ]
  },
  {
   "cell_type": "code",
   "execution_count": 7,
   "id": "44e853c6-c45c-4794-8ad6-5a07c72da2ac",
   "metadata": {
    "tags": []
   },
   "outputs": [
    {
     "name": "stdout",
     "output_type": "stream",
     "text": [
      "<class 'pandas.core.frame.DataFrame'>\n",
      "RangeIndex: 615 entries, 0 to 614\n",
      "Data columns (total 9 columns):\n",
      " #   Column        Non-Null Count  Dtype \n",
      "---  ------        --------------  ----- \n",
      " 0   region        615 non-null    object\n",
      " 1   state         615 non-null    object\n",
      " 2   city_station  615 non-null    object\n",
      " 3   id_station    615 non-null    object\n",
      " 4   lat           615 non-null    object\n",
      " 5   lon           615 non-null    object\n",
      " 6   lvl           615 non-null    object\n",
      " 7   record_first  615 non-null    object\n",
      " 8   record_last   615 non-null    object\n",
      "dtypes: object(9)\n",
      "memory usage: 43.4+ KB\n"
     ]
    }
   ],
   "source": [
    "stations_df.info()"
   ]
  },
  {
   "cell_type": "code",
   "execution_count": 8,
   "id": "209e6dcf-278f-4db3-b76d-d80cf023ce59",
   "metadata": {
    "tags": []
   },
   "outputs": [],
   "source": [
    "tempdf = pd.read_csv('weather_sum_combinado.csv')"
   ]
  },
  {
   "cell_type": "code",
   "execution_count": 9,
   "id": "c7e9dfee-e230-404f-9092-527a78ccf97b",
   "metadata": {
    "tags": []
   },
   "outputs": [
    {
     "data": {
      "text/html": [
       "<div>\n",
       "<style scoped>\n",
       "    .dataframe tbody tr th:only-of-type {\n",
       "        vertical-align: middle;\n",
       "    }\n",
       "\n",
       "    .dataframe tbody tr th {\n",
       "        vertical-align: top;\n",
       "    }\n",
       "\n",
       "    .dataframe thead th {\n",
       "        text-align: right;\n",
       "    }\n",
       "</style>\n",
       "<table border=\"1\" class=\"dataframe\">\n",
       "  <thead>\n",
       "    <tr style=\"text-align: right;\">\n",
       "      <th></th>\n",
       "      <th>ESTACAO</th>\n",
       "      <th>DATA (YYYY-MM-DD)</th>\n",
       "      <th>rain_max</th>\n",
       "      <th>rad_max</th>\n",
       "      <th>temp_avg</th>\n",
       "      <th>temp_max</th>\n",
       "      <th>temp_min</th>\n",
       "      <th>hum_max</th>\n",
       "      <th>hum_min</th>\n",
       "      <th>wind_max</th>\n",
       "      <th>wind_avg</th>\n",
       "    </tr>\n",
       "  </thead>\n",
       "  <tbody>\n",
       "    <tr>\n",
       "      <th>0</th>\n",
       "      <td>A001</td>\n",
       "      <td>2014-01-01</td>\n",
       "      <td>0.0</td>\n",
       "      <td>3697.3</td>\n",
       "      <td>22.954167</td>\n",
       "      <td>29.2</td>\n",
       "      <td>18.3</td>\n",
       "      <td>98.0</td>\n",
       "      <td>39.0</td>\n",
       "      <td>6.9</td>\n",
       "      <td>1.558333</td>\n",
       "    </tr>\n",
       "    <tr>\n",
       "      <th>1</th>\n",
       "      <td>A001</td>\n",
       "      <td>2014-01-02</td>\n",
       "      <td>0.0</td>\n",
       "      <td>4042.5</td>\n",
       "      <td>23.633333</td>\n",
       "      <td>30.1</td>\n",
       "      <td>18.2</td>\n",
       "      <td>95.0</td>\n",
       "      <td>35.0</td>\n",
       "      <td>7.6</td>\n",
       "      <td>2.095833</td>\n",
       "    </tr>\n",
       "    <tr>\n",
       "      <th>2</th>\n",
       "      <td>A001</td>\n",
       "      <td>2014-01-03</td>\n",
       "      <td>0.0</td>\n",
       "      <td>4062.6</td>\n",
       "      <td>24.291667</td>\n",
       "      <td>29.7</td>\n",
       "      <td>17.4</td>\n",
       "      <td>96.0</td>\n",
       "      <td>24.0</td>\n",
       "      <td>7.9</td>\n",
       "      <td>2.000000</td>\n",
       "    </tr>\n",
       "    <tr>\n",
       "      <th>3</th>\n",
       "      <td>A001</td>\n",
       "      <td>2014-01-04</td>\n",
       "      <td>0.0</td>\n",
       "      <td>3969.0</td>\n",
       "      <td>24.608333</td>\n",
       "      <td>29.8</td>\n",
       "      <td>17.7</td>\n",
       "      <td>75.0</td>\n",
       "      <td>25.0</td>\n",
       "      <td>11.5</td>\n",
       "      <td>2.704167</td>\n",
       "    </tr>\n",
       "    <tr>\n",
       "      <th>4</th>\n",
       "      <td>A001</td>\n",
       "      <td>2014-01-05</td>\n",
       "      <td>0.0</td>\n",
       "      <td>4155.5</td>\n",
       "      <td>23.837500</td>\n",
       "      <td>29.3</td>\n",
       "      <td>16.7</td>\n",
       "      <td>79.0</td>\n",
       "      <td>26.0</td>\n",
       "      <td>9.0</td>\n",
       "      <td>2.566667</td>\n",
       "    </tr>\n",
       "  </tbody>\n",
       "</table>\n",
       "</div>"
      ],
      "text/plain": [
       "  ESTACAO DATA (YYYY-MM-DD)  rain_max  rad_max   temp_avg  temp_max  temp_min  \\\n",
       "0    A001        2014-01-01       0.0   3697.3  22.954167      29.2      18.3   \n",
       "1    A001        2014-01-02       0.0   4042.5  23.633333      30.1      18.2   \n",
       "2    A001        2014-01-03       0.0   4062.6  24.291667      29.7      17.4   \n",
       "3    A001        2014-01-04       0.0   3969.0  24.608333      29.8      17.7   \n",
       "4    A001        2014-01-05       0.0   4155.5  23.837500      29.3      16.7   \n",
       "\n",
       "   hum_max  hum_min  wind_max  wind_avg  \n",
       "0     98.0     39.0       6.9  1.558333  \n",
       "1     95.0     35.0       7.6  2.095833  \n",
       "2     96.0     24.0       7.9  2.000000  \n",
       "3     75.0     25.0      11.5  2.704167  \n",
       "4     79.0     26.0       9.0  2.566667  "
      ]
     },
     "execution_count": 9,
     "metadata": {},
     "output_type": "execute_result"
    }
   ],
   "source": [
    "tempdf.head()"
   ]
  },
  {
   "cell_type": "code",
   "execution_count": 10,
   "id": "bf7d2008-786b-44f2-a349-ba2c29d7c8ee",
   "metadata": {
    "tags": []
   },
   "outputs": [
    {
     "data": {
      "text/plain": [
       "615"
      ]
     },
     "execution_count": 10,
     "metadata": {},
     "output_type": "execute_result"
    }
   ],
   "source": [
    "tempdf['ESTACAO'].nunique()"
   ]
  },
  {
   "cell_type": "code",
   "execution_count": 11,
   "id": "2382bd4c-3eb0-4b1b-b09f-468764a6c5a2",
   "metadata": {
    "tags": []
   },
   "outputs": [
    {
     "name": "stdout",
     "output_type": "stream",
     "text": [
      "<class 'pandas.core.frame.DataFrame'>\n",
      "RangeIndex: 1858839 entries, 0 to 1858838\n",
      "Data columns (total 11 columns):\n",
      " #   Column             Dtype  \n",
      "---  ------             -----  \n",
      " 0   ESTACAO            object \n",
      " 1   DATA (YYYY-MM-DD)  object \n",
      " 2   rain_max           float64\n",
      " 3   rad_max            float64\n",
      " 4   temp_avg           float64\n",
      " 5   temp_max           float64\n",
      " 6   temp_min           float64\n",
      " 7   hum_max            float64\n",
      " 8   hum_min            float64\n",
      " 9   wind_max           float64\n",
      " 10  wind_avg           float64\n",
      "dtypes: float64(9), object(2)\n",
      "memory usage: 156.0+ MB\n"
     ]
    }
   ],
   "source": [
    "tempdf.info()"
   ]
  },
  {
   "cell_type": "code",
   "execution_count": 12,
   "id": "f9881dc6-11e2-42b8-aeef-d0d92c947dfc",
   "metadata": {
    "tags": []
   },
   "outputs": [],
   "source": [
    "# Selecionar apenas as colunas necessárias\n",
    "stations_df = stations_df[['region', 'state', 'city_station', 'id_station', 'lat', 'lon']]"
   ]
  },
  {
   "cell_type": "code",
   "execution_count": 13,
   "id": "382eb5b8-8a3b-4d04-9c35-f553e3faf7fc",
   "metadata": {
    "tags": []
   },
   "outputs": [
    {
     "name": "stdout",
     "output_type": "stream",
     "text": [
      "  ESTACAO DATA (YYYY-MM-DD)  rain_max  rad_max   temp_avg  temp_max  temp_min  \\\n",
      "0    A001        2014-01-01       0.0   3697.3  22.954167      29.2      18.3   \n",
      "1    A001        2014-01-02       0.0   4042.5  23.633333      30.1      18.2   \n",
      "2    A001        2014-01-03       0.0   4062.6  24.291667      29.7      17.4   \n",
      "3    A001        2014-01-04       0.0   3969.0  24.608333      29.8      17.7   \n",
      "4    A001        2014-01-05       0.0   4155.5  23.837500      29.3      16.7   \n",
      "\n",
      "   hum_max  hum_min  wind_max  wind_avg region state city_station id_station  \\\n",
      "0     98.0     39.0       6.9  1.558333     CO    DF     BRASILIA       A001   \n",
      "1     95.0     35.0       7.6  2.095833     CO    DF     BRASILIA       A001   \n",
      "2     96.0     24.0       7.9  2.000000     CO    DF     BRASILIA       A001   \n",
      "3     75.0     25.0      11.5  2.704167     CO    DF     BRASILIA       A001   \n",
      "4     79.0     26.0       9.0  2.566667     CO    DF     BRASILIA       A001   \n",
      "\n",
      "            lat           lon  \n",
      "0  -15,78944444  -47,92583332  \n",
      "1  -15,78944444  -47,92583332  \n",
      "2  -15,78944444  -47,92583332  \n",
      "3  -15,78944444  -47,92583332  \n",
      "4  -15,78944444  -47,92583332  \n"
     ]
    }
   ],
   "source": [
    "# Mesclar com o dataset principal com base no ID da estação\n",
    "tempdf = pd.merge(tempdf, stations_df, left_on='ESTACAO', right_on='id_station', how='left')\n",
    "\n",
    "# Verificar o resultado do merge\n",
    "print(tempdf.head())"
   ]
  },
  {
   "cell_type": "code",
   "execution_count": 14,
   "id": "b8c15798-f2e4-48bb-89c2-d3397b0eda47",
   "metadata": {
    "tags": []
   },
   "outputs": [
    {
     "data": {
      "text/html": [
       "<div>\n",
       "<style scoped>\n",
       "    .dataframe tbody tr th:only-of-type {\n",
       "        vertical-align: middle;\n",
       "    }\n",
       "\n",
       "    .dataframe tbody tr th {\n",
       "        vertical-align: top;\n",
       "    }\n",
       "\n",
       "    .dataframe thead th {\n",
       "        text-align: right;\n",
       "    }\n",
       "</style>\n",
       "<table border=\"1\" class=\"dataframe\">\n",
       "  <thead>\n",
       "    <tr style=\"text-align: right;\">\n",
       "      <th></th>\n",
       "      <th>ESTACAO</th>\n",
       "      <th>DATA (YYYY-MM-DD)</th>\n",
       "      <th>rain_max</th>\n",
       "      <th>rad_max</th>\n",
       "      <th>temp_avg</th>\n",
       "      <th>temp_max</th>\n",
       "      <th>temp_min</th>\n",
       "      <th>hum_max</th>\n",
       "      <th>hum_min</th>\n",
       "      <th>wind_max</th>\n",
       "      <th>wind_avg</th>\n",
       "      <th>region</th>\n",
       "      <th>state</th>\n",
       "      <th>city_station</th>\n",
       "      <th>id_station</th>\n",
       "      <th>lat</th>\n",
       "      <th>lon</th>\n",
       "    </tr>\n",
       "  </thead>\n",
       "  <tbody>\n",
       "    <tr>\n",
       "      <th>0</th>\n",
       "      <td>A001</td>\n",
       "      <td>2014-01-01</td>\n",
       "      <td>0.0</td>\n",
       "      <td>3697.3</td>\n",
       "      <td>22.954167</td>\n",
       "      <td>29.2</td>\n",
       "      <td>18.3</td>\n",
       "      <td>98.0</td>\n",
       "      <td>39.0</td>\n",
       "      <td>6.9</td>\n",
       "      <td>1.558333</td>\n",
       "      <td>CO</td>\n",
       "      <td>DF</td>\n",
       "      <td>BRASILIA</td>\n",
       "      <td>A001</td>\n",
       "      <td>-15,78944444</td>\n",
       "      <td>-47,92583332</td>\n",
       "    </tr>\n",
       "    <tr>\n",
       "      <th>1</th>\n",
       "      <td>A001</td>\n",
       "      <td>2014-01-02</td>\n",
       "      <td>0.0</td>\n",
       "      <td>4042.5</td>\n",
       "      <td>23.633333</td>\n",
       "      <td>30.1</td>\n",
       "      <td>18.2</td>\n",
       "      <td>95.0</td>\n",
       "      <td>35.0</td>\n",
       "      <td>7.6</td>\n",
       "      <td>2.095833</td>\n",
       "      <td>CO</td>\n",
       "      <td>DF</td>\n",
       "      <td>BRASILIA</td>\n",
       "      <td>A001</td>\n",
       "      <td>-15,78944444</td>\n",
       "      <td>-47,92583332</td>\n",
       "    </tr>\n",
       "    <tr>\n",
       "      <th>2</th>\n",
       "      <td>A001</td>\n",
       "      <td>2014-01-03</td>\n",
       "      <td>0.0</td>\n",
       "      <td>4062.6</td>\n",
       "      <td>24.291667</td>\n",
       "      <td>29.7</td>\n",
       "      <td>17.4</td>\n",
       "      <td>96.0</td>\n",
       "      <td>24.0</td>\n",
       "      <td>7.9</td>\n",
       "      <td>2.000000</td>\n",
       "      <td>CO</td>\n",
       "      <td>DF</td>\n",
       "      <td>BRASILIA</td>\n",
       "      <td>A001</td>\n",
       "      <td>-15,78944444</td>\n",
       "      <td>-47,92583332</td>\n",
       "    </tr>\n",
       "    <tr>\n",
       "      <th>3</th>\n",
       "      <td>A001</td>\n",
       "      <td>2014-01-04</td>\n",
       "      <td>0.0</td>\n",
       "      <td>3969.0</td>\n",
       "      <td>24.608333</td>\n",
       "      <td>29.8</td>\n",
       "      <td>17.7</td>\n",
       "      <td>75.0</td>\n",
       "      <td>25.0</td>\n",
       "      <td>11.5</td>\n",
       "      <td>2.704167</td>\n",
       "      <td>CO</td>\n",
       "      <td>DF</td>\n",
       "      <td>BRASILIA</td>\n",
       "      <td>A001</td>\n",
       "      <td>-15,78944444</td>\n",
       "      <td>-47,92583332</td>\n",
       "    </tr>\n",
       "    <tr>\n",
       "      <th>4</th>\n",
       "      <td>A001</td>\n",
       "      <td>2014-01-05</td>\n",
       "      <td>0.0</td>\n",
       "      <td>4155.5</td>\n",
       "      <td>23.837500</td>\n",
       "      <td>29.3</td>\n",
       "      <td>16.7</td>\n",
       "      <td>79.0</td>\n",
       "      <td>26.0</td>\n",
       "      <td>9.0</td>\n",
       "      <td>2.566667</td>\n",
       "      <td>CO</td>\n",
       "      <td>DF</td>\n",
       "      <td>BRASILIA</td>\n",
       "      <td>A001</td>\n",
       "      <td>-15,78944444</td>\n",
       "      <td>-47,92583332</td>\n",
       "    </tr>\n",
       "  </tbody>\n",
       "</table>\n",
       "</div>"
      ],
      "text/plain": [
       "  ESTACAO DATA (YYYY-MM-DD)  rain_max  rad_max   temp_avg  temp_max  temp_min  \\\n",
       "0    A001        2014-01-01       0.0   3697.3  22.954167      29.2      18.3   \n",
       "1    A001        2014-01-02       0.0   4042.5  23.633333      30.1      18.2   \n",
       "2    A001        2014-01-03       0.0   4062.6  24.291667      29.7      17.4   \n",
       "3    A001        2014-01-04       0.0   3969.0  24.608333      29.8      17.7   \n",
       "4    A001        2014-01-05       0.0   4155.5  23.837500      29.3      16.7   \n",
       "\n",
       "   hum_max  hum_min  wind_max  wind_avg region state city_station id_station  \\\n",
       "0     98.0     39.0       6.9  1.558333     CO    DF     BRASILIA       A001   \n",
       "1     95.0     35.0       7.6  2.095833     CO    DF     BRASILIA       A001   \n",
       "2     96.0     24.0       7.9  2.000000     CO    DF     BRASILIA       A001   \n",
       "3     75.0     25.0      11.5  2.704167     CO    DF     BRASILIA       A001   \n",
       "4     79.0     26.0       9.0  2.566667     CO    DF     BRASILIA       A001   \n",
       "\n",
       "            lat           lon  \n",
       "0  -15,78944444  -47,92583332  \n",
       "1  -15,78944444  -47,92583332  \n",
       "2  -15,78944444  -47,92583332  \n",
       "3  -15,78944444  -47,92583332  \n",
       "4  -15,78944444  -47,92583332  "
      ]
     },
     "execution_count": 14,
     "metadata": {},
     "output_type": "execute_result"
    }
   ],
   "source": [
    "# Verificar o resultado do merge\n",
    "tempdf.head()"
   ]
  },
  {
   "cell_type": "code",
   "execution_count": 16,
   "id": "e2765314-2ed5-47bb-bfb7-35499f7bfac0",
   "metadata": {
    "tags": []
   },
   "outputs": [],
   "source": [
    "tempdf.to_csv('weather_data_2020_2024_wstations.csv')"
   ]
  },
  {
   "cell_type": "code",
   "execution_count": null,
   "id": "4ecd939f-7e76-4de5-a620-4d59d6753a9f",
   "metadata": {},
   "outputs": [],
   "source": []
  }
 ],
 "metadata": {
  "kernelspec": {
   "display_name": "Python 3 (ipykernel)",
   "language": "python",
   "name": "python3"
  },
  "language_info": {
   "codemirror_mode": {
    "name": "ipython",
    "version": 3
   },
   "file_extension": ".py",
   "mimetype": "text/x-python",
   "name": "python",
   "nbconvert_exporter": "python",
   "pygments_lexer": "ipython3",
   "version": "3.11.5"
  }
 },
 "nbformat": 4,
 "nbformat_minor": 5
}
